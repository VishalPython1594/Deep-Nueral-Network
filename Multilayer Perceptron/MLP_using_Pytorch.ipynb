{
 "cells": [
  {
   "cell_type": "code",
   "execution_count": 1,
   "id": "a0c0fcd2-9d98-476c-8eb4-55ec105f7575",
   "metadata": {},
   "outputs": [],
   "source": [
    "import pandas as pd\n",
    "import numpy as np\n",
    "import tensorflow as tf\n",
    "from tensorflow import keras\n",
    "from keras.layers import Dense, Dropout, BatchNormalization\n",
    "from keras import Sequential"
   ]
  },
  {
   "cell_type": "code",
   "execution_count": 2,
   "id": "334f78c6-034b-481b-a00a-7b742b169b9f",
   "metadata": {},
   "outputs": [],
   "source": [
    "from keras.callbacks import EarlyStopping"
   ]
  },
  {
   "cell_type": "code",
   "execution_count": 3,
   "id": "1292ba20-604e-4aec-832e-82785e8b72a9",
   "metadata": {},
   "outputs": [],
   "source": [
    "callback = EarlyStopping(monitor = 'val_accuracy', patience = 30, min_delta = 0.01, verbose = 1)"
   ]
  },
  {
   "cell_type": "markdown",
   "id": "a90d2c88-8a53-4702-8b8b-81774559377c",
   "metadata": {},
   "source": [
    "# Pytorch"
   ]
  },
  {
   "cell_type": "markdown",
   "id": "1692efd2-b47d-4779-9de6-2158a3d110e3",
   "metadata": {},
   "source": [
    "https://colab.research.google.com/drive/1PgNQ9eYQRcJq2r8ZY3DJnfeK4hO-LdmK#scrollTo=JLZR-_PBnafU"
   ]
  },
  {
   "cell_type": "code",
   "execution_count": null,
   "id": "854fbe8d-685e-4a5a-8dca-cf38e4971479",
   "metadata": {},
   "outputs": [],
   "source": []
  }
 ],
 "metadata": {
  "kernelspec": {
   "display_name": "Python 3 (ipykernel)",
   "language": "python",
   "name": "python3"
  },
  "language_info": {
   "codemirror_mode": {
    "name": "ipython",
    "version": 3
   },
   "file_extension": ".py",
   "mimetype": "text/x-python",
   "name": "python",
   "nbconvert_exporter": "python",
   "pygments_lexer": "ipython3",
   "version": "3.12.3"
  }
 },
 "nbformat": 4,
 "nbformat_minor": 5
}
