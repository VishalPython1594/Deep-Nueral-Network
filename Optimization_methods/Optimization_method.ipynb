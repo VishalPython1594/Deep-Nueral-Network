{
  "nbformat": 4,
  "nbformat_minor": 0,
  "metadata": {
    "colab": {
      "provenance": [],
      "gpuType": "T4"
    },
    "kernelspec": {
      "name": "python3",
      "display_name": "Python 3"
    },
    "language_info": {
      "name": "python"
    },
    "accelerator": "GPU"
  },
  "cells": [
    {
      "cell_type": "code",
      "execution_count": 1,
      "metadata": {
        "colab": {
          "base_uri": "https://localhost:8080/"
        },
        "id": "A_UJ8p6vc0NG",
        "outputId": "f7fc9822-0ee5-476c-abcd-743dec7b6482"
      },
      "outputs": [
        {
          "output_type": "stream",
          "name": "stdout",
          "text": [
            "Downloading data from https://storage.googleapis.com/tensorflow/tf-keras-datasets/mnist.npz\n",
            "11490434/11490434 [==============================] - 0s 0us/step\n",
            "(60000, 28, 28) (10000, 28, 28)\n"
          ]
        }
      ],
      "source": [
        "import tensorflow as tf\n",
        "from tensorflow import keras\n",
        "from keras.datasets import mnist\n",
        "from keras.models import Sequential\n",
        "from keras.layers import Dense, Dropout, Flatten, BatchNormalization\n",
        "from keras import backend as K\n",
        "(x_train, y_train), (x_test, y_test) = mnist.load_data()\n",
        "print(x_train.shape, x_test.shape)"
      ]
    },
    {
      "cell_type": "code",
      "source": [
        "x_train.shape[0]"
      ],
      "metadata": {
        "colab": {
          "base_uri": "https://localhost:8080/"
        },
        "id": "uFRT8-efebIH",
        "outputId": "1205384d-10c3-4f13-c1fe-a2d127c8f401"
      },
      "execution_count": 3,
      "outputs": [
        {
          "output_type": "execute_result",
          "data": {
            "text/plain": [
              "60000"
            ]
          },
          "metadata": {},
          "execution_count": 3
        }
      ]
    },
    {
      "cell_type": "code",
      "source": [
        "x_train.shape[1]"
      ],
      "metadata": {
        "colab": {
          "base_uri": "https://localhost:8080/"
        },
        "id": "reRWMhAyedOX",
        "outputId": "eb10821f-2fea-4bdd-c7e8-4c2a7246bd93"
      },
      "execution_count": 4,
      "outputs": [
        {
          "output_type": "execute_result",
          "data": {
            "text/plain": [
              "28"
            ]
          },
          "metadata": {},
          "execution_count": 4
        }
      ]
    },
    {
      "cell_type": "code",
      "source": [
        "# Reshape the pixel value with 1 channel (grayscale)\n",
        "x_train = x_train.reshape(x_train.shape[0],28,28,1)\n",
        "\n",
        "x_test = x_test.reshape(x_test.shape[0],28,28,1)"
      ],
      "metadata": {
        "id": "-aMstucxc57b"
      },
      "execution_count": 5,
      "outputs": []
    },
    {
      "cell_type": "code",
      "source": [
        "x_train.shape"
      ],
      "metadata": {
        "colab": {
          "base_uri": "https://localhost:8080/"
        },
        "id": "nTJUaQ5cc5-s",
        "outputId": "8548635b-7833-483c-c5e3-6e490e27610d"
      },
      "execution_count": 6,
      "outputs": [
        {
          "output_type": "execute_result",
          "data": {
            "text/plain": [
              "(60000, 28, 28, 1)"
            ]
          },
          "metadata": {},
          "execution_count": 6
        }
      ]
    },
    {
      "cell_type": "code",
      "source": [
        "# Feature Scaling\n",
        "x_train = x_train/255.0\n",
        "x_test = x_test/255.0\n",
        "\n",
        "# Target variable\n",
        "y_train = keras.utils.to_categorical(y_train)\n",
        "y_test = keras.utils.to_categorical(y_test)"
      ],
      "metadata": {
        "id": "WmBiPJpNc6CF"
      },
      "execution_count": 7,
      "outputs": []
    },
    {
      "cell_type": "code",
      "source": [
        "input_shape = (28,28,1)\n",
        "batch_size = 64\n",
        "epochs=10\n",
        "num_classes = 10\n",
        "\n",
        "def build_model(optimizer):\n",
        "  model = Sequential()\n",
        "  model.add(Flatten())\n",
        "  model.add(Dense(256, activation='relu', input_shape=input_shape))\n",
        "  model.add(Dropout(0.25))\n",
        "  model.add(Dense(256, activation = 'relu'))\n",
        "  model.add(Dropout(0.5))\n",
        "  model.add(Dense(num_classes, activation='softmax'))\n",
        "  model.compile(optimizer=optimizer, loss=keras.losses.categorical_crossentropy, metrics=['accuracy'])\n",
        "  return model"
      ],
      "metadata": {
        "id": "Hl79ThKPc6Fn"
      },
      "execution_count": 9,
      "outputs": []
    },
    {
      "cell_type": "code",
      "source": [
        "# Train the model by using different optimization\n",
        "\n",
        "optimizers = ['SGD', 'Adadelta','Adagrad','RMSprop','Adam']\n",
        "\n",
        "for i in optimizers:\n",
        "  model = build_model(i)\n",
        "  history = model.fit(x_train, y_train, batch_size=batch_size, epochs=epochs, verbose=1, validation_data=(x_test, y_test))"
      ],
      "metadata": {
        "colab": {
          "base_uri": "https://localhost:8080/"
        },
        "id": "fpAtEI7pc6I_",
        "outputId": "d2dde84b-fdcb-4900-d79d-6a7f153142d4"
      },
      "execution_count": 10,
      "outputs": [
        {
          "output_type": "stream",
          "name": "stdout",
          "text": [
            "Epoch 1/10\n",
            "938/938 [==============================] - 6s 4ms/step - loss: 1.0928 - accuracy: 0.6670 - val_loss: 0.4279 - val_accuracy: 0.8892\n",
            "Epoch 2/10\n",
            "938/938 [==============================] - 4s 4ms/step - loss: 0.5230 - accuracy: 0.8446 - val_loss: 0.3183 - val_accuracy: 0.9104\n",
            "Epoch 3/10\n",
            "938/938 [==============================] - 4s 4ms/step - loss: 0.4227 - accuracy: 0.8762 - val_loss: 0.2735 - val_accuracy: 0.9221\n",
            "Epoch 4/10\n",
            "938/938 [==============================] - 3s 4ms/step - loss: 0.3653 - accuracy: 0.8928 - val_loss: 0.2449 - val_accuracy: 0.9294\n",
            "Epoch 5/10\n",
            "938/938 [==============================] - 3s 4ms/step - loss: 0.3283 - accuracy: 0.9053 - val_loss: 0.2234 - val_accuracy: 0.9346\n",
            "Epoch 6/10\n",
            "938/938 [==============================] - 4s 4ms/step - loss: 0.3028 - accuracy: 0.9120 - val_loss: 0.2055 - val_accuracy: 0.9386\n",
            "Epoch 7/10\n",
            "938/938 [==============================] - 3s 4ms/step - loss: 0.2848 - accuracy: 0.9171 - val_loss: 0.1914 - val_accuracy: 0.9428\n",
            "Epoch 8/10\n",
            "938/938 [==============================] - 4s 4ms/step - loss: 0.2638 - accuracy: 0.9240 - val_loss: 0.1787 - val_accuracy: 0.9457\n",
            "Epoch 9/10\n",
            "938/938 [==============================] - 5s 5ms/step - loss: 0.2481 - accuracy: 0.9277 - val_loss: 0.1690 - val_accuracy: 0.9483\n",
            "Epoch 10/10\n",
            "938/938 [==============================] - 3s 4ms/step - loss: 0.2351 - accuracy: 0.9323 - val_loss: 0.1602 - val_accuracy: 0.9516\n",
            "Epoch 1/10\n",
            "938/938 [==============================] - 5s 4ms/step - loss: 2.3460 - accuracy: 0.1219 - val_loss: 2.2467 - val_accuracy: 0.2047\n",
            "Epoch 2/10\n",
            "938/938 [==============================] - 4s 4ms/step - loss: 2.2643 - accuracy: 0.1596 - val_loss: 2.1669 - val_accuracy: 0.3376\n",
            "Epoch 3/10\n",
            "938/938 [==============================] - 4s 4ms/step - loss: 2.1888 - accuracy: 0.2069 - val_loss: 2.0909 - val_accuracy: 0.4651\n",
            "Epoch 4/10\n",
            "938/938 [==============================] - 3s 4ms/step - loss: 2.1193 - accuracy: 0.2628 - val_loss: 2.0155 - val_accuracy: 0.5400\n",
            "Epoch 5/10\n",
            "938/938 [==============================] - 4s 4ms/step - loss: 2.0511 - accuracy: 0.3157 - val_loss: 1.9389 - val_accuracy: 0.5911\n",
            "Epoch 6/10\n",
            "938/938 [==============================] - 4s 4ms/step - loss: 1.9814 - accuracy: 0.3652 - val_loss: 1.8604 - val_accuracy: 0.6249\n",
            "Epoch 7/10\n",
            "938/938 [==============================] - 3s 4ms/step - loss: 1.9127 - accuracy: 0.4077 - val_loss: 1.7801 - val_accuracy: 0.6488\n",
            "Epoch 8/10\n",
            "938/938 [==============================] - 3s 4ms/step - loss: 1.8381 - accuracy: 0.4524 - val_loss: 1.6980 - val_accuracy: 0.6683\n",
            "Epoch 9/10\n",
            "938/938 [==============================] - 4s 4ms/step - loss: 1.7681 - accuracy: 0.4867 - val_loss: 1.6159 - val_accuracy: 0.6862\n",
            "Epoch 10/10\n",
            "938/938 [==============================] - 3s 4ms/step - loss: 1.7001 - accuracy: 0.5110 - val_loss: 1.5343 - val_accuracy: 0.7006\n",
            "Epoch 1/10\n",
            "938/938 [==============================] - 4s 4ms/step - loss: 1.7820 - accuracy: 0.4393 - val_loss: 1.0859 - val_accuracy: 0.7837\n",
            "Epoch 2/10\n",
            "938/938 [==============================] - 4s 4ms/step - loss: 1.0541 - accuracy: 0.6864 - val_loss: 0.6551 - val_accuracy: 0.8482\n",
            "Epoch 3/10\n",
            "938/938 [==============================] - 3s 4ms/step - loss: 0.7923 - accuracy: 0.7620 - val_loss: 0.5148 - val_accuracy: 0.8712\n",
            "Epoch 4/10\n",
            "938/938 [==============================] - 3s 4ms/step - loss: 0.6764 - accuracy: 0.7940 - val_loss: 0.4459 - val_accuracy: 0.8842\n",
            "Epoch 5/10\n",
            "938/938 [==============================] - 4s 4ms/step - loss: 0.6096 - accuracy: 0.8155 - val_loss: 0.4048 - val_accuracy: 0.8939\n",
            "Epoch 6/10\n",
            "938/938 [==============================] - 4s 4ms/step - loss: 0.5608 - accuracy: 0.8318 - val_loss: 0.3753 - val_accuracy: 0.9009\n",
            "Epoch 7/10\n",
            "938/938 [==============================] - 3s 4ms/step - loss: 0.5245 - accuracy: 0.8445 - val_loss: 0.3539 - val_accuracy: 0.9042\n",
            "Epoch 8/10\n",
            "938/938 [==============================] - 3s 4ms/step - loss: 0.4958 - accuracy: 0.8513 - val_loss: 0.3378 - val_accuracy: 0.9072\n",
            "Epoch 9/10\n",
            "938/938 [==============================] - 4s 4ms/step - loss: 0.4710 - accuracy: 0.8618 - val_loss: 0.3243 - val_accuracy: 0.9103\n",
            "Epoch 10/10\n",
            "938/938 [==============================] - 3s 4ms/step - loss: 0.4580 - accuracy: 0.8675 - val_loss: 0.3133 - val_accuracy: 0.9124\n",
            "Epoch 1/10\n",
            "938/938 [==============================] - 5s 5ms/step - loss: 0.3141 - accuracy: 0.9057 - val_loss: 0.1229 - val_accuracy: 0.9609\n",
            "Epoch 2/10\n",
            "938/938 [==============================] - 3s 4ms/step - loss: 0.1513 - accuracy: 0.9568 - val_loss: 0.1033 - val_accuracy: 0.9701\n",
            "Epoch 3/10\n",
            "938/938 [==============================] - 3s 4ms/step - loss: 0.1205 - accuracy: 0.9650 - val_loss: 0.0883 - val_accuracy: 0.9751\n",
            "Epoch 4/10\n",
            "938/938 [==============================] - 4s 5ms/step - loss: 0.1038 - accuracy: 0.9705 - val_loss: 0.0832 - val_accuracy: 0.9772\n",
            "Epoch 5/10\n",
            "938/938 [==============================] - 3s 4ms/step - loss: 0.0916 - accuracy: 0.9748 - val_loss: 0.0973 - val_accuracy: 0.9771\n",
            "Epoch 6/10\n",
            "938/938 [==============================] - 3s 4ms/step - loss: 0.0836 - accuracy: 0.9771 - val_loss: 0.0861 - val_accuracy: 0.9781\n",
            "Epoch 7/10\n",
            "938/938 [==============================] - 3s 4ms/step - loss: 0.0788 - accuracy: 0.9782 - val_loss: 0.0859 - val_accuracy: 0.9800\n",
            "Epoch 8/10\n",
            "938/938 [==============================] - 4s 4ms/step - loss: 0.0737 - accuracy: 0.9799 - val_loss: 0.0876 - val_accuracy: 0.9811\n",
            "Epoch 9/10\n",
            "938/938 [==============================] - 3s 4ms/step - loss: 0.0709 - accuracy: 0.9814 - val_loss: 0.0908 - val_accuracy: 0.9796\n",
            "Epoch 10/10\n",
            "938/938 [==============================] - 3s 4ms/step - loss: 0.0710 - accuracy: 0.9815 - val_loss: 0.0886 - val_accuracy: 0.9812\n",
            "Epoch 1/10\n",
            "938/938 [==============================] - 6s 4ms/step - loss: 0.3193 - accuracy: 0.9030 - val_loss: 0.1136 - val_accuracy: 0.9655\n",
            "Epoch 2/10\n",
            "938/938 [==============================] - 4s 4ms/step - loss: 0.1439 - accuracy: 0.9570 - val_loss: 0.0921 - val_accuracy: 0.9726\n",
            "Epoch 3/10\n",
            "938/938 [==============================] - 4s 4ms/step - loss: 0.1132 - accuracy: 0.9662 - val_loss: 0.0794 - val_accuracy: 0.9740\n",
            "Epoch 4/10\n",
            "938/938 [==============================] - 4s 4ms/step - loss: 0.0918 - accuracy: 0.9723 - val_loss: 0.0769 - val_accuracy: 0.9764\n",
            "Epoch 5/10\n",
            "938/938 [==============================] - 3s 4ms/step - loss: 0.0792 - accuracy: 0.9751 - val_loss: 0.0695 - val_accuracy: 0.9799\n",
            "Epoch 6/10\n",
            "938/938 [==============================] - 5s 5ms/step - loss: 0.0680 - accuracy: 0.9787 - val_loss: 0.0688 - val_accuracy: 0.9808\n",
            "Epoch 7/10\n",
            "938/938 [==============================] - 3s 4ms/step - loss: 0.0633 - accuracy: 0.9801 - val_loss: 0.0730 - val_accuracy: 0.9796\n",
            "Epoch 8/10\n",
            "938/938 [==============================] - 3s 4ms/step - loss: 0.0605 - accuracy: 0.9816 - val_loss: 0.0680 - val_accuracy: 0.9819\n",
            "Epoch 9/10\n",
            "938/938 [==============================] - 4s 4ms/step - loss: 0.0517 - accuracy: 0.9835 - val_loss: 0.0671 - val_accuracy: 0.9805\n",
            "Epoch 10/10\n",
            "938/938 [==============================] - 4s 4ms/step - loss: 0.0528 - accuracy: 0.9834 - val_loss: 0.0712 - val_accuracy: 0.9800\n"
          ]
        }
      ]
    },
    {
      "cell_type": "code",
      "source": [
        "# 'SGD' : loss: 0.2481 - accuracy: 0.9277 - val_loss: 0.1690 - val_accuracy: 0.9483\n",
        "# 'Adadelta' : loss: 1.7001 - accuracy: 0.5110 - val_loss: 1.5343 - val_accuracy: 0.7006\n",
        "# 'Adagrad' : loss: 0.4580 - accuracy: 0.8675 - val_loss: 0.3133 - val_accuracy: 0.9124\n",
        "# 'RMSprop' :  loss: 0.0710 - accuracy: 0.9815 - val_loss: 0.0886 - val_accuracy: 0.9812\n",
        "# 'Adam' :loss: 0.0528 - accuracy: 0.9834 - val_loss: 0.0712 - val_accuracy: 0.9800"
      ],
      "metadata": {
        "id": "mVpizR8Jc6MD"
      },
      "execution_count": null,
      "outputs": []
    },
    {
      "cell_type": "code",
      "source": [],
      "metadata": {
        "id": "diLvhccOc6PK"
      },
      "execution_count": null,
      "outputs": []
    },
    {
      "cell_type": "code",
      "source": [],
      "metadata": {
        "id": "RexbyiNJc6Sm"
      },
      "execution_count": null,
      "outputs": []
    }
  ]
}